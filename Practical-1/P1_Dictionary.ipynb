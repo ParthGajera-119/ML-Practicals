{
 "cells": [
  {
   "cell_type": "code",
   "execution_count": 1,
   "metadata": {},
   "outputs": [
    {
     "name": "stdout",
     "output_type": "stream",
     "text": [
      "{'name': 'John', 1: [2, 4, 3]}\n",
      "{1: 'apple', 2: 'ball'}\n"
     ]
    }
   ],
   "source": [
    "d= {1: 'apple', 2: 'ball'}\n",
    "\n",
    "d= {'name': 'John', 1: [2, 4, 3]}\n",
    "print(d)\n",
    "\n",
    "#from sequence having each item as a pair\n",
    "\n",
    "Dict=dict ([(1,'apple'), (2,'ball')])\n",
    "print(Dict)"
   ]
  },
  {
   "cell_type": "code",
   "execution_count": 2,
   "metadata": {},
   "outputs": [
    {
     "name": "stdout",
     "output_type": "stream",
     "text": [
      "{'mohit': 'python', 'dobariya': 'java'}\n"
     ]
    }
   ],
   "source": [
    "# Create dictionary from Lists\n",
    "\n",
    "keys=['mohit', 'dobariya']\n",
    "values=['python','java']\n",
    "\n",
    "data=dict(zip(keys,values))\n",
    "print(data)"
   ]
  },
  {
   "cell_type": "code",
   "execution_count": 3,
   "metadata": {},
   "outputs": [
    {
     "name": "stdout",
     "output_type": "stream",
     "text": [
      "sublime\n",
      "eclipse\n"
     ]
    }
   ],
   "source": [
    "prog={'js':'atom','cs':'vs','python':['pycharm','sublime'],'java':{'jsk':'netbeans','jee':'eclipse'}}\n",
    "\n",
    "print(prog['python'][1])\n",
    "print(prog['java']['jee'])"
   ]
  },
  {
   "cell_type": "code",
   "execution_count": 4,
   "metadata": {},
   "outputs": [
    {
     "name": "stdout",
     "output_type": "stream",
     "text": [
      "Mohit\n",
      "None\n",
      "Not Found\n"
     ]
    }
   ],
   "source": [
    "# Accessing Elements from Dictionary\n",
    "\n",
    "my_dict = {'name': 'Mohit', 'age': 19}\n",
    "\n",
    "print(my_dict['name'])\n",
    "print(my_dict.get('address'))\n",
    "print(my_dict.get('contact','Not Found'))\n"
   ]
  },
  {
   "cell_type": "code",
   "execution_count": 5,
   "metadata": {},
   "outputs": [
    {
     "name": "stdout",
     "output_type": "stream",
     "text": [
      "{'name': 'Jack', 'age': 35, 'address': 'canada'}\n"
     ]
    }
   ],
   "source": [
    "# Changing and adding Dictionary Elements\n",
    "\n",
    "my_dict = {'name': 'Jack', 'age': 27}\n",
    "\n",
    "my_dict['age']=35\n",
    "my_dict['address']='canada'\n",
    "print(my_dict)"
   ]
  },
  {
   "cell_type": "code",
   "execution_count": 6,
   "metadata": {},
   "outputs": [
    {
     "name": "stdout",
     "output_type": "stream",
     "text": [
      "{'maths': 87, 'english': 55, 'science': 90, 'chemistry': 69}\n",
      "90\n",
      "('chemistry', 69)\n",
      "{}\n"
     ]
    }
   ],
   "source": [
    "# Removing elements from a dictionary\n",
    "\n",
    "l3={}\n",
    "l1 = ['maths','english','science','chemistry']\n",
    "l2 = [87,55,90,69]\n",
    "\n",
    "for i in range(len(l1)):\n",
    "    l3[l1[i]] = l2[i]\n",
    "print(l3)\n",
    "\n",
    "print(l3.pop('science'))  # remove a particular item, returns its value\n",
    "\n",
    "print(l3.popitem())       # remove an arbitrary item, return (key,value)\n",
    "\n",
    "l3.clear()                # remove all items\n",
    "print(l3)\n",
    "\n",
    "del l3                    # delete the dictionary itself\n",
    "\n"
   ]
  },
  {
   "cell_type": "code",
   "execution_count": 7,
   "metadata": {},
   "outputs": [
    {
     "name": "stdout",
     "output_type": "stream",
     "text": [
      "{'Math': 0, 'English': 0, 'Science': 0}\n",
      "Math\n",
      "English\n",
      "Science\n",
      "['English', 'Math', 'Science']\n"
     ]
    }
   ],
   "source": [
    "marks = {}.fromkeys(['Math', 'English', 'Science'], 0)\n",
    "print(marks)\n",
    "\n",
    "for item in marks.keys():\n",
    "    print(item)                    # print keys\n",
    "    \n",
    "print(list(sorted(marks.keys())))  # sorting list of keys\n",
    "\n"
   ]
  },
  {
   "cell_type": "code",
   "execution_count": 11,
   "metadata": {},
   "outputs": [
    {
     "name": "stdout",
     "output_type": "stream",
     "text": [
      "{1: 1, 3: 9, 5: 25, 7: 49, 9: 81}\n",
      "True\n",
      "False\n",
      "True\n",
      "6\n",
      "[0, 1, 3, 5, 7, 9]\n"
     ]
    }
   ],
   "source": [
    "# Dictionary Comprehension with if conditional\n",
    "odd_squares = {x: x*x for x in range(11) if x % 2 == 1}\n",
    "\n",
    "print(odd_squares)\n",
    "print(2 not in squares)\n",
    "\n",
    "# Dictionary Built-in Functions\n",
    "squares = {0: 1, 1: 1, 3: 9, 5: 25, 7: 49, 9: 81}\n",
    "\n",
    "\n",
    "print(all(squares)) # Return True if all keys of the dictionary are True (or if the dictionary is empty).\n",
    "\n",
    "\n",
    "print(any(squares)) # Return True if any key of the dictionary is true. If the dictionary is empty, return False.\n",
    "\n",
    "\n",
    "print(len(squares)) # Return the length of the dictionary.\n",
    "\n",
    "\n",
    "print(sorted(squares)) # Return a new sorted list of keys in the dictionary."
   ]
  }
 ],
 "metadata": {
  "kernelspec": {
   "display_name": "Python 3",
   "language": "python",
   "name": "python3"
  },
  "language_info": {
   "codemirror_mode": {
    "name": "ipython",
    "version": 3
   },
   "file_extension": ".py",
   "mimetype": "text/x-python",
   "name": "python",
   "nbconvert_exporter": "python",
   "pygments_lexer": "ipython3",
   "version": "3.8.3"
  }
 },
 "nbformat": 4,
 "nbformat_minor": 4
}
