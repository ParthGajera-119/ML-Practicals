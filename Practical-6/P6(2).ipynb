{
  "nbformat": 4,
  "nbformat_minor": 0,
  "metadata": {
    "colab": {
      "name": "P6(2).ipynb",
      "provenance": []
    },
    "kernelspec": {
      "name": "python3",
      "display_name": "Python 3"
    },
    "language_info": {
      "name": "python"
    }
  },
  "cells": [
    {
      "cell_type": "markdown",
      "metadata": {
        "id": "rxKbsP9zJyHY"
      },
      "source": [
        "**Plotting ROC Curves**"
      ]
    },
    {
      "cell_type": "markdown",
      "metadata": {
        "id": "CnJlFhxGKAmW"
      },
      "source": [
        "Let’s now build a binary classifier and plot it’s ROC curve to better understand the process.\n",
        "\n",
        "We will use a Logistic Regression model for this example. We’re working with three important libraries here – Matplotlib, Numpy, and sklearn."
      ]
    },
    {
      "cell_type": "code",
      "metadata": {
        "id": "CAKS2mWuKBxe"
      },
      "source": [
        "#Importing Required Modules\n",
        "import numpy as np\n",
        "import matplotlib.pyplot as plt\n",
        "from sklearn.datasets import make_classification\n",
        "from  sklearn.linear_model import LogisticRegression\n",
        "from sklearn.model_selection import train_test_split\n",
        "from sklearn.metrics import roc_curve"
      ],
      "execution_count": 6,
      "outputs": []
    },
    {
      "cell_type": "code",
      "metadata": {
        "id": "1KAVtPPAKH4n"
      },
      "source": [
        "##Creating a Dataset\n",
        "X, label = make_classification(n_samples=500, n_classes=2, weights=[1,1], random_state=100)"
      ],
      "execution_count": 7,
      "outputs": []
    },
    {
      "cell_type": "code",
      "metadata": {
        "id": "iSlmU2DoKLCD"
      },
      "source": [
        "#Splitting the data into train and test sets\n",
        "X_train, X_test, y_train, y_test = train_test_split(X, label, test_size=0.3, random_state=1)"
      ],
      "execution_count": 8,
      "outputs": []
    },
    {
      "cell_type": "code",
      "metadata": {
        "colab": {
          "base_uri": "https://localhost:8080/"
        },
        "id": "k1Q5dUmaKLuG",
        "outputId": "17c9051c-7708-4dbb-88c1-7a66a7287606"
      },
      "source": [
        "#Creating the class object and \n",
        "model = LogisticRegression()\n",
        "model.fit(X_train, y_train)"
      ],
      "execution_count": 9,
      "outputs": [
        {
          "output_type": "execute_result",
          "data": {
            "text/plain": [
              "LogisticRegression(C=1.0, class_weight=None, dual=False, fit_intercept=True,\n",
              "                   intercept_scaling=1, l1_ratio=None, max_iter=100,\n",
              "                   multi_class='auto', n_jobs=None, penalty='l2',\n",
              "                   random_state=None, solver='lbfgs', tol=0.0001, verbose=0,\n",
              "                   warm_start=False)"
            ]
          },
          "metadata": {
            "tags": []
          },
          "execution_count": 9
        }
      ]
    },
    {
      "cell_type": "code",
      "metadata": {
        "id": "GvZmEdVzKO62"
      },
      "source": [
        "#predict probabilities\n",
        "probs = model.predict_proba(X_test)"
      ],
      "execution_count": 11,
      "outputs": []
    },
    {
      "cell_type": "code",
      "metadata": {
        "id": "tICqQ5DQKQ63"
      },
      "source": [
        "#Keeping only positive class\n",
        "probs = probs[:, 1]"
      ],
      "execution_count": 12,
      "outputs": []
    },
    {
      "cell_type": "code",
      "metadata": {
        "id": "v99UVpxHKVQ_"
      },
      "source": [
        "#Calculating the FPR and TPR\n",
        "fpr, tpr, thresholds = roc_curve(y_test, probs)"
      ],
      "execution_count": 13,
      "outputs": []
    },
    {
      "cell_type": "code",
      "metadata": {
        "colab": {
          "base_uri": "https://localhost:8080/",
          "height": 404
        },
        "id": "7F5iYvbQKXiH",
        "outputId": "cda79483-877f-47b5-98a3-6896d224626c"
      },
      "source": [
        "#Plotting the figure\n",
        "plt.figure(figsize = (10,6))\n",
        "plt.plot(fpr, tpr, color='red', label='ROC')\n",
        "plt.plot([0, 1], [0, 1], color='darkblue', linestyle='--')\n",
        "plt.xlabel('False Positive Rate')\n",
        "plt.ylabel('True Positive Rate')\n",
        "plt.title('Receiver Operating Characteristic Curve')\n",
        "plt.legend()\n",
        "plt.show()"
      ],
      "execution_count": 14,
      "outputs": [
        {
          "output_type": "display_data",
          "data": {
            "image/png": "[encoded data removed]",
            "text/plain": [
              "<Figure size 720x432 with 1 Axes>"
            ]
          },
          "metadata": {
            "tags": [],
            "needs_background": "light"
          }
        }
      ]
    }
  ]
}