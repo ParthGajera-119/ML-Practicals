{
  "nbformat": 4,
  "nbformat_minor": 0,
  "metadata": {
    "colab": {
      "name": "LR_using_statmodel.ipynb",
      "provenance": [],
      "collapsed_sections": []
    },
    "kernelspec": {
      "name": "python3",
      "display_name": "Python 3"
    }
  },
  "cells": [
    {
      "cell_type": "code",
      "metadata": {
        "colab": {
          "base_uri": "https://localhost:8080/"
        },
        "id": "QLACOxns_no_",
        "outputId": "13dfc08b-7a72-4bd7-c78f-3c19a007dc13"
      },
      "source": [
        "import numpy as np\n",
        "\n",
        "import pandas as pd\n",
        " \n",
        "import matplotlib.pyplot as plt\n",
        " \n",
        "import statsmodels.api as sm\n",
        " \n",
        "import seaborn\n",
        " \n",
        "seaborn.set()"
      ],
      "execution_count": 1,
      "outputs": [
        {
          "output_type": "stream",
          "text": [
            "/usr/local/lib/python3.7/dist-packages/statsmodels/tools/_testing.py:19: FutureWarning: pandas.util.testing is deprecated. Use the functions in the public API at pandas.testing instead.\n",
            "  import pandas.util.testing as tm\n"
          ],
          "name": "stderr"
        }
      ]
    },
    {
      "cell_type": "code",
      "metadata": {
        "colab": {
          "base_uri": "https://localhost:8080/",
          "height": 194
        },
        "id": "XURnsNE-AGmT",
        "outputId": "d2bd880e-ccb8-44b7-a656-7a4aa4b10030"
      },
      "source": [
        "df = pd.read_csv('/content/Admission_Predict.csv')\n",
        "df.head()"
      ],
      "execution_count": 2,
      "outputs": [
        {
          "output_type": "execute_result",
          "data": {
            "text/html": [
              "<div>\n",
              "<style scoped>\n",
              "    .dataframe tbody tr th:only-of-type {\n",
              "        vertical-align: middle;\n",
              "    }\n",
              "\n",
              "    .dataframe tbody tr th {\n",
              "        vertical-align: top;\n",
              "    }\n",
              "\n",
              "    .dataframe thead th {\n",
              "        text-align: right;\n",
              "    }\n",
              "</style>\n",
              "<table border=\"1\" class=\"dataframe\">\n",
              "  <thead>\n",
              "    <tr style=\"text-align: right;\">\n",
              "      <th></th>\n",
              "      <th>Serial No.</th>\n",
              "      <th>GRE Score</th>\n",
              "      <th>TOEFL Score</th>\n",
              "      <th>University Rating</th>\n",
              "      <th>SOP</th>\n",
              "      <th>LOR</th>\n",
              "      <th>CGPA</th>\n",
              "      <th>Research</th>\n",
              "      <th>Chance of Admit</th>\n",
              "    </tr>\n",
              "  </thead>\n",
              "  <tbody>\n",
              "    <tr>\n",
              "      <th>0</th>\n",
              "      <td>1</td>\n",
              "      <td>337</td>\n",
              "      <td>118</td>\n",
              "      <td>4</td>\n",
              "      <td>4.5</td>\n",
              "      <td>4.5</td>\n",
              "      <td>9.65</td>\n",
              "      <td>1</td>\n",
              "      <td>0.92</td>\n",
              "    </tr>\n",
              "    <tr>\n",
              "      <th>1</th>\n",
              "      <td>2</td>\n",
              "      <td>324</td>\n",
              "      <td>107</td>\n",
              "      <td>4</td>\n",
              "      <td>4.0</td>\n",
              "      <td>4.5</td>\n",
              "      <td>8.87</td>\n",
              "      <td>1</td>\n",
              "      <td>0.76</td>\n",
              "    </tr>\n",
              "    <tr>\n",
              "      <th>2</th>\n",
              "      <td>3</td>\n",
              "      <td>316</td>\n",
              "      <td>104</td>\n",
              "      <td>3</td>\n",
              "      <td>3.0</td>\n",
              "      <td>3.5</td>\n",
              "      <td>8.00</td>\n",
              "      <td>1</td>\n",
              "      <td>0.72</td>\n",
              "    </tr>\n",
              "    <tr>\n",
              "      <th>3</th>\n",
              "      <td>4</td>\n",
              "      <td>322</td>\n",
              "      <td>110</td>\n",
              "      <td>3</td>\n",
              "      <td>3.5</td>\n",
              "      <td>2.5</td>\n",
              "      <td>8.67</td>\n",
              "      <td>1</td>\n",
              "      <td>0.80</td>\n",
              "    </tr>\n",
              "    <tr>\n",
              "      <th>4</th>\n",
              "      <td>5</td>\n",
              "      <td>314</td>\n",
              "      <td>103</td>\n",
              "      <td>2</td>\n",
              "      <td>2.0</td>\n",
              "      <td>3.0</td>\n",
              "      <td>8.21</td>\n",
              "      <td>0</td>\n",
              "      <td>0.65</td>\n",
              "    </tr>\n",
              "  </tbody>\n",
              "</table>\n",
              "</div>"
            ],
            "text/plain": [
              "   Serial No.  GRE Score  TOEFL Score  ...  CGPA  Research  Chance of Admit \n",
              "0           1        337          118  ...  9.65         1              0.92\n",
              "1           2        324          107  ...  8.87         1              0.76\n",
              "2           3        316          104  ...  8.00         1              0.72\n",
              "3           4        322          110  ...  8.67         1              0.80\n",
              "4           5        314          103  ...  8.21         0              0.65\n",
              "\n",
              "[5 rows x 9 columns]"
            ]
          },
          "metadata": {
            "tags": []
          },
          "execution_count": 2
        }
      ]
    },
    {
      "cell_type": "code",
      "metadata": {
        "id": "KZsUIRMDAVwg"
      },
      "source": [
        "x1= df[['GRE Score']]\n",
        "\n",
        "y=df[['Chance of Admit ']]  #simple linear regression"
      ],
      "execution_count": 3,
      "outputs": []
    },
    {
      "cell_type": "code",
      "metadata": {
        "id": "N_t74xUweuL6"
      },
      "source": [
        "x = sm.add_constant(x1)\n",
        " \n",
        "results = sm.OLS(y,x).fit()"
      ],
      "execution_count": 4,
      "outputs": []
    },
    {
      "cell_type": "code",
      "metadata": {
        "colab": {
          "base_uri": "https://localhost:8080/",
          "height": 468
        },
        "id": "WNsumuARfUsy",
        "outputId": "bc1ca8fa-de84-40fa-94c9-72ed41a420c2"
      },
      "source": [
        "results.summary()"
      ],
      "execution_count": 5,
      "outputs": [
        {
          "output_type": "execute_result",
          "data": {
            "text/html": [
              "<table class=\"simpletable\">\n",
              "<caption>OLS Regression Results</caption>\n",
              "<tr>\n",
              "  <th>Dep. Variable:</th>    <td>Chance of Admit </td> <th>  R-squared:         </th> <td>   0.644</td>\n",
              "</tr>\n",
              "<tr>\n",
              "  <th>Model:</th>                   <td>OLS</td>       <th>  Adj. R-squared:    </th> <td>   0.643</td>\n",
              "</tr>\n",
              "<tr>\n",
              "  <th>Method:</th>             <td>Least Squares</td>  <th>  F-statistic:       </th> <td>   720.6</td>\n",
              "</tr>\n",
              "<tr>\n",
              "  <th>Date:</th>             <td>Mon, 19 Apr 2021</td> <th>  Prob (F-statistic):</th> <td>2.46e-91</td>\n",
              "</tr>\n",
              "<tr>\n",
              "  <th>Time:</th>                 <td>05:50:57</td>     <th>  Log-Likelihood:    </th> <td>  418.65</td>\n",
              "</tr>\n",
              "<tr>\n",
              "  <th>No. Observations:</th>      <td>   400</td>      <th>  AIC:               </th> <td>  -833.3</td>\n",
              "</tr>\n",
              "<tr>\n",
              "  <th>Df Residuals:</th>          <td>   398</td>      <th>  BIC:               </th> <td>  -825.3</td>\n",
              "</tr>\n",
              "<tr>\n",
              "  <th>Df Model:</th>              <td>     1</td>      <th>                     </th>     <td> </td>   \n",
              "</tr>\n",
              "<tr>\n",
              "  <th>Covariance Type:</th>      <td>nonrobust</td>    <th>                     </th>     <td> </td>   \n",
              "</tr>\n",
              "</table>\n",
              "<table class=\"simpletable\">\n",
              "<tr>\n",
              "      <td></td>         <th>coef</th>     <th>std err</th>      <th>t</th>      <th>P>|t|</th>  <th>[0.025</th>    <th>0.975]</th>  \n",
              "</tr>\n",
              "<tr>\n",
              "  <th>const</th>     <td>   -2.4361</td> <td>    0.118</td> <td>  -20.677</td> <td> 0.000</td> <td>   -2.668</td> <td>   -2.204</td>\n",
              "</tr>\n",
              "<tr>\n",
              "  <th>GRE Score</th> <td>    0.0100</td> <td>    0.000</td> <td>   26.843</td> <td> 0.000</td> <td>    0.009</td> <td>    0.011</td>\n",
              "</tr>\n",
              "</table>\n",
              "<table class=\"simpletable\">\n",
              "<tr>\n",
              "  <th>Omnibus:</th>       <td>52.605</td> <th>  Durbin-Watson:     </th> <td>   0.858</td>\n",
              "</tr>\n",
              "<tr>\n",
              "  <th>Prob(Omnibus):</th> <td> 0.000</td> <th>  Jarque-Bera (JB):  </th> <td>  77.715</td>\n",
              "</tr>\n",
              "<tr>\n",
              "  <th>Skew:</th>          <td>-0.860</td> <th>  Prob(JB):          </th> <td>1.33e-17</td>\n",
              "</tr>\n",
              "<tr>\n",
              "  <th>Kurtosis:</th>      <td> 4.307</td> <th>  Cond. No.          </th> <td>8.77e+03</td>\n",
              "</tr>\n",
              "</table><br/><br/>Warnings:<br/>[1] Standard Errors assume that the covariance matrix of the errors is correctly specified.<br/>[2] The condition number is large, 8.77e+03. This might indicate that there are<br/>strong multicollinearity or other numerical problems."
            ],
            "text/plain": [
              "<class 'statsmodels.iolib.summary.Summary'>\n",
              "\"\"\"\n",
              "                            OLS Regression Results                            \n",
              "==============================================================================\n",
              "Dep. Variable:       Chance of Admit    R-squared:                       0.644\n",
              "Model:                            OLS   Adj. R-squared:                  0.643\n",
              "Method:                 Least Squares   F-statistic:                     720.6\n",
              "Date:                Mon, 19 Apr 2021   Prob (F-statistic):           2.46e-91\n",
              "Time:                        05:50:57   Log-Likelihood:                 418.65\n",
              "No. Observations:                 400   AIC:                            -833.3\n",
              "Df Residuals:                     398   BIC:                            -825.3\n",
              "Df Model:                           1                                         \n",
              "Covariance Type:            nonrobust                                         \n",
              "==============================================================================\n",
              "                 coef    std err          t      P>|t|      [0.025      0.975]\n",
              "------------------------------------------------------------------------------\n",
              "const         -2.4361      0.118    -20.677      0.000      -2.668      -2.204\n",
              "GRE Score      0.0100      0.000     26.843      0.000       0.009       0.011\n",
              "==============================================================================\n",
              "Omnibus:                       52.605   Durbin-Watson:                   0.858\n",
              "Prob(Omnibus):                  0.000   Jarque-Bera (JB):               77.715\n",
              "Skew:                          -0.860   Prob(JB):                     1.33e-17\n",
              "Kurtosis:                       4.307   Cond. No.                     8.77e+03\n",
              "==============================================================================\n",
              "\n",
              "Warnings:\n",
              "[1] Standard Errors assume that the covariance matrix of the errors is correctly specified.\n",
              "[2] The condition number is large, 8.77e+03. This might indicate that there are\n",
              "strong multicollinearity or other numerical problems.\n",
              "\"\"\""
            ]
          },
          "metadata": {
            "tags": []
          },
          "execution_count": 5
        }
      ]
    },
    {
      "cell_type": "code",
      "metadata": {
        "id": "gQ9kbNTRfckU"
      },
      "source": [
        "x1= df[['GRE Score','TOEFL Score','SOP']] # multiple linera regression \n",
        "\n",
        "y=df[['Chance of Admit ']]"
      ],
      "execution_count": 6,
      "outputs": []
    },
    {
      "cell_type": "code",
      "metadata": {
        "id": "rFZNDlAzf3OX"
      },
      "source": [
        "x = sm.add_constant(x1)\n",
        " \n",
        "results = sm.OLS(y,x).fit()"
      ],
      "execution_count": 8,
      "outputs": []
    },
    {
      "cell_type": "code",
      "metadata": {
        "colab": {
          "base_uri": "https://localhost:8080/",
          "height": 508
        },
        "id": "ob6cBpXCiFQN",
        "outputId": "0220c464-57c9-43d7-b1d9-327dc2bf03b5"
      },
      "source": [
        "results.summary()  # y = 4.6309 + 0.05* x1 + 0.1072*x2"
      ],
      "execution_count": 9,
      "outputs": [
        {
          "output_type": "execute_result",
          "data": {
            "text/html": [
              "<table class=\"simpletable\">\n",
              "<caption>OLS Regression Results</caption>\n",
              "<tr>\n",
              "  <th>Dep. Variable:</th>    <td>Chance of Admit </td> <th>  R-squared:         </th> <td>   0.721</td> \n",
              "</tr>\n",
              "<tr>\n",
              "  <th>Model:</th>                   <td>OLS</td>       <th>  Adj. R-squared:    </th> <td>   0.719</td> \n",
              "</tr>\n",
              "<tr>\n",
              "  <th>Method:</th>             <td>Least Squares</td>  <th>  F-statistic:       </th> <td>   341.0</td> \n",
              "</tr>\n",
              "<tr>\n",
              "  <th>Date:</th>             <td>Mon, 19 Apr 2021</td> <th>  Prob (F-statistic):</th> <td>2.39e-109</td>\n",
              "</tr>\n",
              "<tr>\n",
              "  <th>Time:</th>                 <td>05:51:23</td>     <th>  Log-Likelihood:    </th> <td>  467.25</td> \n",
              "</tr>\n",
              "<tr>\n",
              "  <th>No. Observations:</th>      <td>   400</td>      <th>  AIC:               </th> <td>  -926.5</td> \n",
              "</tr>\n",
              "<tr>\n",
              "  <th>Df Residuals:</th>          <td>   396</td>      <th>  BIC:               </th> <td>  -910.5</td> \n",
              "</tr>\n",
              "<tr>\n",
              "  <th>Df Model:</th>              <td>     3</td>      <th>                     </th>     <td> </td>    \n",
              "</tr>\n",
              "<tr>\n",
              "  <th>Covariance Type:</th>      <td>nonrobust</td>    <th>                     </th>     <td> </td>    \n",
              "</tr>\n",
              "</table>\n",
              "<table class=\"simpletable\">\n",
              "<tr>\n",
              "       <td></td>          <th>coef</th>     <th>std err</th>      <th>t</th>      <th>P>|t|</th>  <th>[0.025</th>    <th>0.975]</th>  \n",
              "</tr>\n",
              "<tr>\n",
              "  <th>const</th>       <td>   -1.7749</td> <td>    0.124</td> <td>  -14.295</td> <td> 0.000</td> <td>   -2.019</td> <td>   -1.531</td>\n",
              "</tr>\n",
              "<tr>\n",
              "  <th>GRE Score</th>   <td>    0.0052</td> <td>    0.001</td> <td>    8.592</td> <td> 0.000</td> <td>    0.004</td> <td>    0.006</td>\n",
              "</tr>\n",
              "<tr>\n",
              "  <th>TOEFL Score</th> <td>    0.0068</td> <td>    0.001</td> <td>    5.666</td> <td> 0.000</td> <td>    0.004</td> <td>    0.009</td>\n",
              "</tr>\n",
              "<tr>\n",
              "  <th>SOP</th>         <td>    0.0321</td> <td>    0.005</td> <td>    6.353</td> <td> 0.000</td> <td>    0.022</td> <td>    0.042</td>\n",
              "</tr>\n",
              "</table>\n",
              "<table class=\"simpletable\">\n",
              "<tr>\n",
              "  <th>Omnibus:</th>       <td>84.175</td> <th>  Durbin-Watson:     </th> <td>   0.750</td>\n",
              "</tr>\n",
              "<tr>\n",
              "  <th>Prob(Omnibus):</th> <td> 0.000</td> <th>  Jarque-Bera (JB):  </th> <td> 154.500</td>\n",
              "</tr>\n",
              "<tr>\n",
              "  <th>Skew:</th>          <td>-1.174</td> <th>  Prob(JB):          </th> <td>2.82e-34</td>\n",
              "</tr>\n",
              "<tr>\n",
              "  <th>Kurtosis:</th>      <td> 4.939</td> <th>  Cond. No.          </th> <td>1.10e+04</td>\n",
              "</tr>\n",
              "</table><br/><br/>Warnings:<br/>[1] Standard Errors assume that the covariance matrix of the errors is correctly specified.<br/>[2] The condition number is large, 1.1e+04. This might indicate that there are<br/>strong multicollinearity or other numerical problems."
            ],
            "text/plain": [
              "<class 'statsmodels.iolib.summary.Summary'>\n",
              "\"\"\"\n",
              "                            OLS Regression Results                            \n",
              "==============================================================================\n",
              "Dep. Variable:       Chance of Admit    R-squared:                       0.721\n",
              "Model:                            OLS   Adj. R-squared:                  0.719\n",
              "Method:                 Least Squares   F-statistic:                     341.0\n",
              "Date:                Mon, 19 Apr 2021   Prob (F-statistic):          2.39e-109\n",
              "Time:                        05:51:23   Log-Likelihood:                 467.25\n",
              "No. Observations:                 400   AIC:                            -926.5\n",
              "Df Residuals:                     396   BIC:                            -910.5\n",
              "Df Model:                           3                                         \n",
              "Covariance Type:            nonrobust                                         \n",
              "===============================================================================\n",
              "                  coef    std err          t      P>|t|      [0.025      0.975]\n",
              "-------------------------------------------------------------------------------\n",
              "const          -1.7749      0.124    -14.295      0.000      -2.019      -1.531\n",
              "GRE Score       0.0052      0.001      8.592      0.000       0.004       0.006\n",
              "TOEFL Score     0.0068      0.001      5.666      0.000       0.004       0.009\n",
              "SOP             0.0321      0.005      6.353      0.000       0.022       0.042\n",
              "==============================================================================\n",
              "Omnibus:                       84.175   Durbin-Watson:                   0.750\n",
              "Prob(Omnibus):                  0.000   Jarque-Bera (JB):              154.500\n",
              "Skew:                          -1.174   Prob(JB):                     2.82e-34\n",
              "Kurtosis:                       4.939   Cond. No.                     1.10e+04\n",
              "==============================================================================\n",
              "\n",
              "Warnings:\n",
              "[1] Standard Errors assume that the covariance matrix of the errors is correctly specified.\n",
              "[2] The condition number is large, 1.1e+04. This might indicate that there are\n",
              "strong multicollinearity or other numerical problems.\n",
              "\"\"\""
            ]
          },
          "metadata": {
            "tags": []
          },
          "execution_count": 9
        }
      ]
    },
    {
      "cell_type": "code",
      "metadata": {
        "id": "x4EdJ5uZiJ1-"
      },
      "source": [
        "x1= df[['GRE Score','TOEFL Score']] # multiple linera regression \n",
        "\n",
        "y=df[['Chance of Admit ']]"
      ],
      "execution_count": 10,
      "outputs": []
    },
    {
      "cell_type": "code",
      "metadata": {
        "id": "vXxcO5M2iVej"
      },
      "source": [
        "x = sm.add_constant(x1)\n",
        " \n",
        "results = sm.OLS(y,x).fit()"
      ],
      "execution_count": 11,
      "outputs": []
    },
    {
      "cell_type": "code",
      "metadata": {
        "colab": {
          "base_uri": "https://localhost:8080/",
          "height": 488
        },
        "id": "t8ukloG4iaVp",
        "outputId": "4f750a7f-63e2-4eb7-eede-4cae3ae99fe1"
      },
      "source": [
        "results.summary()"
      ],
      "execution_count": 12,
      "outputs": [
        {
          "output_type": "execute_result",
          "data": {
            "text/html": [
              "<table class=\"simpletable\">\n",
              "<caption>OLS Regression Results</caption>\n",
              "<tr>\n",
              "  <th>Dep. Variable:</th>    <td>Chance of Admit </td> <th>  R-squared:         </th> <td>   0.693</td> \n",
              "</tr>\n",
              "<tr>\n",
              "  <th>Model:</th>                   <td>OLS</td>       <th>  Adj. R-squared:    </th> <td>   0.691</td> \n",
              "</tr>\n",
              "<tr>\n",
              "  <th>Method:</th>             <td>Least Squares</td>  <th>  F-statistic:       </th> <td>   447.0</td> \n",
              "</tr>\n",
              "<tr>\n",
              "  <th>Date:</th>             <td>Mon, 19 Apr 2021</td> <th>  Prob (F-statistic):</th> <td>2.17e-102</td>\n",
              "</tr>\n",
              "<tr>\n",
              "  <th>Time:</th>                 <td>05:51:31</td>     <th>  Log-Likelihood:    </th> <td>  447.84</td> \n",
              "</tr>\n",
              "<tr>\n",
              "  <th>No. Observations:</th>      <td>   400</td>      <th>  AIC:               </th> <td>  -889.7</td> \n",
              "</tr>\n",
              "<tr>\n",
              "  <th>Df Residuals:</th>          <td>   397</td>      <th>  BIC:               </th> <td>  -877.7</td> \n",
              "</tr>\n",
              "<tr>\n",
              "  <th>Df Model:</th>              <td>     2</td>      <th>                     </th>     <td> </td>    \n",
              "</tr>\n",
              "<tr>\n",
              "  <th>Covariance Type:</th>      <td>nonrobust</td>    <th>                     </th>     <td> </td>    \n",
              "</tr>\n",
              "</table>\n",
              "<table class=\"simpletable\">\n",
              "<tr>\n",
              "       <td></td>          <th>coef</th>     <th>std err</th>      <th>t</th>      <th>P>|t|</th>  <th>[0.025</th>    <th>0.975]</th>  \n",
              "</tr>\n",
              "<tr>\n",
              "  <th>const</th>       <td>   -2.1284</td> <td>    0.116</td> <td>  -18.289</td> <td> 0.000</td> <td>   -2.357</td> <td>   -1.900</td>\n",
              "</tr>\n",
              "<tr>\n",
              "  <th>GRE Score</th>   <td>    0.0058</td> <td>    0.001</td> <td>    9.223</td> <td> 0.000</td> <td>    0.005</td> <td>    0.007</td>\n",
              "</tr>\n",
              "<tr>\n",
              "  <th>TOEFL Score</th> <td>    0.0094</td> <td>    0.001</td> <td>    7.899</td> <td> 0.000</td> <td>    0.007</td> <td>    0.012</td>\n",
              "</tr>\n",
              "</table>\n",
              "<table class=\"simpletable\">\n",
              "<tr>\n",
              "  <th>Omnibus:</th>       <td>66.196</td> <th>  Durbin-Watson:     </th> <td>   0.814</td>\n",
              "</tr>\n",
              "<tr>\n",
              "  <th>Prob(Omnibus):</th> <td> 0.000</td> <th>  Jarque-Bera (JB):  </th> <td> 109.580</td>\n",
              "</tr>\n",
              "<tr>\n",
              "  <th>Skew:</th>          <td>-0.986</td> <th>  Prob(JB):          </th> <td>1.60e-24</td>\n",
              "</tr>\n",
              "<tr>\n",
              "  <th>Kurtosis:</th>      <td> 4.638</td> <th>  Cond. No.          </th> <td>9.83e+03</td>\n",
              "</tr>\n",
              "</table><br/><br/>Warnings:<br/>[1] Standard Errors assume that the covariance matrix of the errors is correctly specified.<br/>[2] The condition number is large, 9.83e+03. This might indicate that there are<br/>strong multicollinearity or other numerical problems."
            ],
            "text/plain": [
              "<class 'statsmodels.iolib.summary.Summary'>\n",
              "\"\"\"\n",
              "                            OLS Regression Results                            \n",
              "==============================================================================\n",
              "Dep. Variable:       Chance of Admit    R-squared:                       0.693\n",
              "Model:                            OLS   Adj. R-squared:                  0.691\n",
              "Method:                 Least Squares   F-statistic:                     447.0\n",
              "Date:                Mon, 19 Apr 2021   Prob (F-statistic):          2.17e-102\n",
              "Time:                        05:51:31   Log-Likelihood:                 447.84\n",
              "No. Observations:                 400   AIC:                            -889.7\n",
              "Df Residuals:                     397   BIC:                            -877.7\n",
              "Df Model:                           2                                         \n",
              "Covariance Type:            nonrobust                                         \n",
              "===============================================================================\n",
              "                  coef    std err          t      P>|t|      [0.025      0.975]\n",
              "-------------------------------------------------------------------------------\n",
              "const          -2.1284      0.116    -18.289      0.000      -2.357      -1.900\n",
              "GRE Score       0.0058      0.001      9.223      0.000       0.005       0.007\n",
              "TOEFL Score     0.0094      0.001      7.899      0.000       0.007       0.012\n",
              "==============================================================================\n",
              "Omnibus:                       66.196   Durbin-Watson:                   0.814\n",
              "Prob(Omnibus):                  0.000   Jarque-Bera (JB):              109.580\n",
              "Skew:                          -0.986   Prob(JB):                     1.60e-24\n",
              "Kurtosis:                       4.638   Cond. No.                     9.83e+03\n",
              "==============================================================================\n",
              "\n",
              "Warnings:\n",
              "[1] Standard Errors assume that the covariance matrix of the errors is correctly specified.\n",
              "[2] The condition number is large, 9.83e+03. This might indicate that there are\n",
              "strong multicollinearity or other numerical problems.\n",
              "\"\"\""
            ]
          },
          "metadata": {
            "tags": []
          },
          "execution_count": 12
        }
      ]
    },
    {
      "cell_type": "code",
      "metadata": {
        "id": "Gyv5pMcUidNt"
      },
      "source": [
        "x1= df[['GRE Score','TOEFL Score','SOP','CGPA']] # multiple linera regression \n",
        "\n",
        "y=df[['Chance of Admit ']]"
      ],
      "execution_count": 13,
      "outputs": []
    },
    {
      "cell_type": "code",
      "metadata": {
        "id": "giJiVqwBiqlt"
      },
      "source": [
        "x = sm.add_constant(x1)\n",
        " \n",
        "results = sm.OLS(y,x).fit()"
      ],
      "execution_count": 14,
      "outputs": []
    },
    {
      "cell_type": "code",
      "metadata": {
        "colab": {
          "base_uri": "https://localhost:8080/",
          "height": 529
        },
        "id": "1qTry1jiiuxM",
        "outputId": "5c7b3b3c-134d-4719-c3ac-35f580fe2562"
      },
      "source": [
        "results.summary()"
      ],
      "execution_count": 15,
      "outputs": [
        {
          "output_type": "execute_result",
          "data": {
            "text/html": [
              "<table class=\"simpletable\">\n",
              "<caption>OLS Regression Results</caption>\n",
              "<tr>\n",
              "  <th>Dep. Variable:</th>    <td>Chance of Admit </td> <th>  R-squared:         </th> <td>   0.788</td> \n",
              "</tr>\n",
              "<tr>\n",
              "  <th>Model:</th>                   <td>OLS</td>       <th>  Adj. R-squared:    </th> <td>   0.786</td> \n",
              "</tr>\n",
              "<tr>\n",
              "  <th>Method:</th>             <td>Least Squares</td>  <th>  F-statistic:       </th> <td>   367.8</td> \n",
              "</tr>\n",
              "<tr>\n",
              "  <th>Date:</th>             <td>Mon, 19 Apr 2021</td> <th>  Prob (F-statistic):</th> <td>1.01e-131</td>\n",
              "</tr>\n",
              "<tr>\n",
              "  <th>Time:</th>                 <td>05:51:40</td>     <th>  Log-Likelihood:    </th> <td>  522.55</td> \n",
              "</tr>\n",
              "<tr>\n",
              "  <th>No. Observations:</th>      <td>   400</td>      <th>  AIC:               </th> <td>  -1035.</td> \n",
              "</tr>\n",
              "<tr>\n",
              "  <th>Df Residuals:</th>          <td>   395</td>      <th>  BIC:               </th> <td>  -1015.</td> \n",
              "</tr>\n",
              "<tr>\n",
              "  <th>Df Model:</th>              <td>     4</td>      <th>                     </th>     <td> </td>    \n",
              "</tr>\n",
              "<tr>\n",
              "  <th>Covariance Type:</th>      <td>nonrobust</td>    <th>                     </th>     <td> </td>    \n",
              "</tr>\n",
              "</table>\n",
              "<table class=\"simpletable\">\n",
              "<tr>\n",
              "       <td></td>          <th>coef</th>     <th>std err</th>      <th>t</th>      <th>P>|t|</th>  <th>[0.025</th>    <th>0.975]</th>  \n",
              "</tr>\n",
              "<tr>\n",
              "  <th>const</th>       <td>   -1.5022</td> <td>    0.111</td> <td>  -13.537</td> <td> 0.000</td> <td>   -1.720</td> <td>   -1.284</td>\n",
              "</tr>\n",
              "<tr>\n",
              "  <th>GRE Score</th>   <td>    0.0023</td> <td>    0.001</td> <td>    3.944</td> <td> 0.000</td> <td>    0.001</td> <td>    0.003</td>\n",
              "</tr>\n",
              "<tr>\n",
              "  <th>TOEFL Score</th> <td>    0.0027</td> <td>    0.001</td> <td>    2.404</td> <td> 0.017</td> <td>    0.000</td> <td>    0.005</td>\n",
              "</tr>\n",
              "<tr>\n",
              "  <th>SOP</th>         <td>    0.0113</td> <td>    0.005</td> <td>    2.366</td> <td> 0.018</td> <td>    0.002</td> <td>    0.021</td>\n",
              "</tr>\n",
              "<tr>\n",
              "  <th>CGPA</th>        <td>    0.1352</td> <td>    0.012</td> <td>   11.216</td> <td> 0.000</td> <td>    0.112</td> <td>    0.159</td>\n",
              "</tr>\n",
              "</table>\n",
              "<table class=\"simpletable\">\n",
              "<tr>\n",
              "  <th>Omnibus:</th>       <td>93.879</td> <th>  Durbin-Watson:     </th> <td>   0.789</td>\n",
              "</tr>\n",
              "<tr>\n",
              "  <th>Prob(Omnibus):</th> <td> 0.000</td> <th>  Jarque-Bera (JB):  </th> <td> 202.623</td>\n",
              "</tr>\n",
              "<tr>\n",
              "  <th>Skew:</th>          <td>-1.214</td> <th>  Prob(JB):          </th> <td>1.00e-44</td>\n",
              "</tr>\n",
              "<tr>\n",
              "  <th>Kurtosis:</th>      <td> 5.503</td> <th>  Cond. No.          </th> <td>1.13e+04</td>\n",
              "</tr>\n",
              "</table><br/><br/>Warnings:<br/>[1] Standard Errors assume that the covariance matrix of the errors is correctly specified.<br/>[2] The condition number is large, 1.13e+04. This might indicate that there are<br/>strong multicollinearity or other numerical problems."
            ],
            "text/plain": [
              "<class 'statsmodels.iolib.summary.Summary'>\n",
              "\"\"\"\n",
              "                            OLS Regression Results                            \n",
              "==============================================================================\n",
              "Dep. Variable:       Chance of Admit    R-squared:                       0.788\n",
              "Model:                            OLS   Adj. R-squared:                  0.786\n",
              "Method:                 Least Squares   F-statistic:                     367.8\n",
              "Date:                Mon, 19 Apr 2021   Prob (F-statistic):          1.01e-131\n",
              "Time:                        05:51:40   Log-Likelihood:                 522.55\n",
              "No. Observations:                 400   AIC:                            -1035.\n",
              "Df Residuals:                     395   BIC:                            -1015.\n",
              "Df Model:                           4                                         \n",
              "Covariance Type:            nonrobust                                         \n",
              "===============================================================================\n",
              "                  coef    std err          t      P>|t|      [0.025      0.975]\n",
              "-------------------------------------------------------------------------------\n",
              "const          -1.5022      0.111    -13.537      0.000      -1.720      -1.284\n",
              "GRE Score       0.0023      0.001      3.944      0.000       0.001       0.003\n",
              "TOEFL Score     0.0027      0.001      2.404      0.017       0.000       0.005\n",
              "SOP             0.0113      0.005      2.366      0.018       0.002       0.021\n",
              "CGPA            0.1352      0.012     11.216      0.000       0.112       0.159\n",
              "==============================================================================\n",
              "Omnibus:                       93.879   Durbin-Watson:                   0.789\n",
              "Prob(Omnibus):                  0.000   Jarque-Bera (JB):              202.623\n",
              "Skew:                          -1.214   Prob(JB):                     1.00e-44\n",
              "Kurtosis:                       5.503   Cond. No.                     1.13e+04\n",
              "==============================================================================\n",
              "\n",
              "Warnings:\n",
              "[1] Standard Errors assume that the covariance matrix of the errors is correctly specified.\n",
              "[2] The condition number is large, 1.13e+04. This might indicate that there are\n",
              "strong multicollinearity or other numerical problems.\n",
              "\"\"\""
            ]
          },
          "metadata": {
            "tags": []
          },
          "execution_count": 15
        }
      ]
    },
    {
      "cell_type": "code",
      "metadata": {
        "id": "p-6_1Bf5iyGy"
      },
      "source": [
        "x1= df[['GRE Score','TOEFL Score','SOP','LOR ','CGPA']] # multiple linera regression \n",
        "\n",
        "y=df[['Chance of Admit ']]"
      ],
      "execution_count": 16,
      "outputs": []
    },
    {
      "cell_type": "code",
      "metadata": {
        "id": "rTw4URLk4DGE"
      },
      "source": [
        "x = sm.add_constant(x1)\n",
        " \n",
        "results = sm.OLS(y,x).fit()"
      ],
      "execution_count": 17,
      "outputs": []
    },
    {
      "cell_type": "code",
      "metadata": {
        "id": "LWqbbtCJ4Dcb",
        "colab": {
          "base_uri": "https://localhost:8080/",
          "height": 549
        },
        "outputId": "e0dd70d4-17c9-4ecd-ee88-81b210b01284"
      },
      "source": [
        "results.summary()"
      ],
      "execution_count": 18,
      "outputs": [
        {
          "output_type": "execute_result",
          "data": {
            "text/html": [
              "<table class=\"simpletable\">\n",
              "<caption>OLS Regression Results</caption>\n",
              "<tr>\n",
              "  <th>Dep. Variable:</th>    <td>Chance of Admit </td> <th>  R-squared:         </th> <td>   0.798</td> \n",
              "</tr>\n",
              "<tr>\n",
              "  <th>Model:</th>                   <td>OLS</td>       <th>  Adj. R-squared:    </th> <td>   0.795</td> \n",
              "</tr>\n",
              "<tr>\n",
              "  <th>Method:</th>             <td>Least Squares</td>  <th>  F-statistic:       </th> <td>   311.1</td> \n",
              "</tr>\n",
              "<tr>\n",
              "  <th>Date:</th>             <td>Mon, 19 Apr 2021</td> <th>  Prob (F-statistic):</th> <td>2.35e-134</td>\n",
              "</tr>\n",
              "<tr>\n",
              "  <th>Time:</th>                 <td>05:51:47</td>     <th>  Log-Likelihood:    </th> <td>  531.78</td> \n",
              "</tr>\n",
              "<tr>\n",
              "  <th>No. Observations:</th>      <td>   400</td>      <th>  AIC:               </th> <td>  -1052.</td> \n",
              "</tr>\n",
              "<tr>\n",
              "  <th>Df Residuals:</th>          <td>   394</td>      <th>  BIC:               </th> <td>  -1028.</td> \n",
              "</tr>\n",
              "<tr>\n",
              "  <th>Df Model:</th>              <td>     5</td>      <th>                     </th>     <td> </td>    \n",
              "</tr>\n",
              "<tr>\n",
              "  <th>Covariance Type:</th>      <td>nonrobust</td>    <th>                     </th>     <td> </td>    \n",
              "</tr>\n",
              "</table>\n",
              "<table class=\"simpletable\">\n",
              "<tr>\n",
              "       <td></td>          <th>coef</th>     <th>std err</th>      <th>t</th>      <th>P>|t|</th>  <th>[0.025</th>    <th>0.975]</th>  \n",
              "</tr>\n",
              "<tr>\n",
              "  <th>const</th>       <td>   -1.4621</td> <td>    0.109</td> <td>  -13.417</td> <td> 0.000</td> <td>   -1.676</td> <td>   -1.248</td>\n",
              "</tr>\n",
              "<tr>\n",
              "  <th>GRE Score</th>   <td>    0.0023</td> <td>    0.001</td> <td>    4.016</td> <td> 0.000</td> <td>    0.001</td> <td>    0.003</td>\n",
              "</tr>\n",
              "<tr>\n",
              "  <th>TOEFL Score</th> <td>    0.0029</td> <td>    0.001</td> <td>    2.670</td> <td> 0.008</td> <td>    0.001</td> <td>    0.005</td>\n",
              "</tr>\n",
              "<tr>\n",
              "  <th>SOP</th>         <td>    0.0002</td> <td>    0.005</td> <td>    0.038</td> <td> 0.970</td> <td>   -0.010</td> <td>    0.011</td>\n",
              "</tr>\n",
              "<tr>\n",
              "  <th>LOR </th>        <td>    0.0239</td> <td>    0.006</td> <td>    4.315</td> <td> 0.000</td> <td>    0.013</td> <td>    0.035</td>\n",
              "</tr>\n",
              "<tr>\n",
              "  <th>CGPA</th>        <td>    0.1227</td> <td>    0.012</td> <td>   10.104</td> <td> 0.000</td> <td>    0.099</td> <td>    0.147</td>\n",
              "</tr>\n",
              "</table>\n",
              "<table class=\"simpletable\">\n",
              "<tr>\n",
              "  <th>Omnibus:</th>       <td>92.169</td> <th>  Durbin-Watson:     </th> <td>   0.793</td>\n",
              "</tr>\n",
              "<tr>\n",
              "  <th>Prob(Omnibus):</th> <td> 0.000</td> <th>  Jarque-Bera (JB):  </th> <td> 203.297</td>\n",
              "</tr>\n",
              "<tr>\n",
              "  <th>Skew:</th>          <td>-1.181</td> <th>  Prob(JB):          </th> <td>7.15e-45</td>\n",
              "</tr>\n",
              "<tr>\n",
              "  <th>Kurtosis:</th>      <td> 5.572</td> <th>  Cond. No.          </th> <td>1.13e+04</td>\n",
              "</tr>\n",
              "</table><br/><br/>Warnings:<br/>[1] Standard Errors assume that the covariance matrix of the errors is correctly specified.<br/>[2] The condition number is large, 1.13e+04. This might indicate that there are<br/>strong multicollinearity or other numerical problems."
            ],
            "text/plain": [
              "<class 'statsmodels.iolib.summary.Summary'>\n",
              "\"\"\"\n",
              "                            OLS Regression Results                            \n",
              "==============================================================================\n",
              "Dep. Variable:       Chance of Admit    R-squared:                       0.798\n",
              "Model:                            OLS   Adj. R-squared:                  0.795\n",
              "Method:                 Least Squares   F-statistic:                     311.1\n",
              "Date:                Mon, 19 Apr 2021   Prob (F-statistic):          2.35e-134\n",
              "Time:                        05:51:47   Log-Likelihood:                 531.78\n",
              "No. Observations:                 400   AIC:                            -1052.\n",
              "Df Residuals:                     394   BIC:                            -1028.\n",
              "Df Model:                           5                                         \n",
              "Covariance Type:            nonrobust                                         \n",
              "===============================================================================\n",
              "                  coef    std err          t      P>|t|      [0.025      0.975]\n",
              "-------------------------------------------------------------------------------\n",
              "const          -1.4621      0.109    -13.417      0.000      -1.676      -1.248\n",
              "GRE Score       0.0023      0.001      4.016      0.000       0.001       0.003\n",
              "TOEFL Score     0.0029      0.001      2.670      0.008       0.001       0.005\n",
              "SOP             0.0002      0.005      0.038      0.970      -0.010       0.011\n",
              "LOR             0.0239      0.006      4.315      0.000       0.013       0.035\n",
              "CGPA            0.1227      0.012     10.104      0.000       0.099       0.147\n",
              "==============================================================================\n",
              "Omnibus:                       92.169   Durbin-Watson:                   0.793\n",
              "Prob(Omnibus):                  0.000   Jarque-Bera (JB):              203.297\n",
              "Skew:                          -1.181   Prob(JB):                     7.15e-45\n",
              "Kurtosis:                       5.572   Cond. No.                     1.13e+04\n",
              "==============================================================================\n",
              "\n",
              "Warnings:\n",
              "[1] Standard Errors assume that the covariance matrix of the errors is correctly specified.\n",
              "[2] The condition number is large, 1.13e+04. This might indicate that there are\n",
              "strong multicollinearity or other numerical problems.\n",
              "\"\"\""
            ]
          },
          "metadata": {
            "tags": []
          },
          "execution_count": 18
        }
      ]
    }
  ]
}